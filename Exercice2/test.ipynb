{
 "cells": [
  {
   "cell_type": "code",
   "execution_count": 1,
   "metadata": {
    "collapsed": true
   },
   "outputs": [],
   "source": [
    "from ortools.sat.python import cp_model\n"
   ]
  },
  {
   "cell_type": "code",
   "execution_count": 3,
   "outputs": [],
   "source": [
    "class VarArraySolutionPrinter(cp_model.CpSolverSolutionCallback):\n",
    "    \"\"\"Print intermediate solutions.\"\"\"\n",
    "\n",
    "    def __init__(self, variables):\n",
    "        cp_model.CpSolverSolutionCallback.__init__(self)\n",
    "        self.__variables = variables\n",
    "        self.__solution_count = 0\n",
    "\n",
    "    def on_solution_callback(self):\n",
    "        self.__solution_count += 1\n",
    "        for v in self.__variables:\n",
    "            print('%s=%i' % (v, self.Value(v)), end=' ')\n",
    "        print()\n",
    "\n",
    "    def solution_count(self):\n",
    "        return self.__solution_count\n",
    "\n"
   ],
   "metadata": {
    "collapsed": false
   }
  },
  {
   "cell_type": "code",
   "execution_count": 4,
   "outputs": [],
   "source": [
    "def SearchForAllSolutionsSampleSat():\n",
    "    \"\"\"Showcases calling the solver to search for all solutions.\"\"\"\n",
    "    # Creates the model.\n",
    "    model = cp_model.CpModel()\n",
    "\n",
    "    # Creates the variables.\n",
    "    num_vals = 3\n",
    "    x = model.NewIntVar(0, num_vals - 1, 'x')\n",
    "    y = model.NewIntVar(0, num_vals - 1, 'y')\n",
    "    z = model.NewIntVar(0, num_vals - 1, 'z')\n",
    "\n",
    "    # Create the constraints.\n",
    "    model.Add(x != y)\n",
    "\n",
    "    # Create a solver and solve.\n",
    "    solver = cp_model.CpSolver()\n",
    "    solution_printer = VarArraySolutionPrinter([x, y, z])\n",
    "    # Enumerate all solutions.\n",
    "    solver.parameters.enumerate_all_solutions = True\n",
    "    # Solve.\n",
    "    status = solver.Solve(model, solution_printer)\n",
    "\n",
    "    print('Status = %s' % solver.StatusName(status))\n",
    "    print('Number of solutions found: %i' % solution_printer.solution_count())\n"
   ],
   "metadata": {
    "collapsed": false
   }
  },
  {
   "cell_type": "code",
   "execution_count": 6,
   "outputs": [
    {
     "name": "stdout",
     "output_type": "stream",
     "text": [
      "x=1 y=0 z=0 \n",
      "x=2 y=0 z=0 \n",
      "x=2 y=0 z=1 \n",
      "x=1 y=0 z=1 \n",
      "x=2 y=1 z=1 \n",
      "x=2 y=1 z=0 \n",
      "x=2 y=1 z=2 \n",
      "x=2 y=0 z=2 \n",
      "x=1 y=0 z=2 \n",
      "x=0 y=1 z=2 \n",
      "x=0 y=1 z=1 \n",
      "x=0 y=2 z=1 \n",
      "x=0 y=2 z=2 \n",
      "x=1 y=2 z=2 \n",
      "x=1 y=2 z=1 \n",
      "x=1 y=2 z=0 \n",
      "x=0 y=2 z=0 \n",
      "x=0 y=1 z=0 \n",
      "Status = OPTIMAL\n",
      "Number of solutions found: 18\n"
     ]
    }
   ],
   "source": [
    "SearchForAllSolutionsSampleSat()"
   ],
   "metadata": {
    "collapsed": false
   }
  },
  {
   "cell_type": "code",
   "execution_count": null,
   "outputs": [],
   "source": [],
   "metadata": {
    "collapsed": false
   }
  }
 ],
 "metadata": {
  "kernelspec": {
   "display_name": "Python 3",
   "language": "python",
   "name": "python3"
  },
  "language_info": {
   "codemirror_mode": {
    "name": "ipython",
    "version": 2
   },
   "file_extension": ".py",
   "mimetype": "text/x-python",
   "name": "python",
   "nbconvert_exporter": "python",
   "pygments_lexer": "ipython2",
   "version": "2.7.6"
  }
 },
 "nbformat": 4,
 "nbformat_minor": 0
}
