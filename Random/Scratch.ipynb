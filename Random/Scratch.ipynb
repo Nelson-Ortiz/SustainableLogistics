{
 "cells": [
  {
   "cell_type": "code",
   "execution_count": 41,
   "metadata": {
    "collapsed": true
   },
   "outputs": [],
   "source": [
    "import matplotlib.pyplot as plt\n",
    "from ortools.linear_solver import pywraplp\n",
    "from ortools.init import pywrapinit\n",
    "import numpy as np\n",
    "from pandas import read_csv\n",
    "import matplotlib.pyplot as plt\n",
    "import seaborn as sns\n"
   ]
  },
  {
   "cell_type": "code",
   "execution_count": 13,
   "outputs": [],
   "source": [
    "\"\"\"Simple Travelling Salesperson Problem (TSP) between cities.\"\"\"\n",
    "\n",
    "from ortools.constraint_solver import routing_enums_pb2\n",
    "from ortools.constraint_solver import pywrapcp"
   ],
   "metadata": {
    "collapsed": false
   }
  },
  {
   "cell_type": "code",
   "execution_count": 1,
   "outputs": [],
   "source": [
    "def create_data_model():\n",
    "    \"\"\"Stores the data for the problem.\"\"\"\n",
    "    data = {}\n",
    "    data['distance_matrix'] = [\n",
    "        [0, 2451, 713, 1018, 1631, 1374, 2408, 213, 2571, 875, 1420, 2145, 1972],\n",
    "        [2451, 0, 1745, 1524, 831, 1240, 959, 2596, 403, 1589, 1374, 357, 579],\n",
    "        [713, 1745, 0, 355, 920, 803, 1737, 851, 1858, 262, 940, 1453, 1260],\n",
    "        [1018, 1524, 355, 0, 700, 862, 1395, 1123, 1584, 466, 1056, 1280, 987],\n",
    "        [1631, 831, 920, 700, 0, 663, 1021, 1769, 949, 796, 879, 586, 371],\n",
    "        [1374, 1240, 803, 862, 663, 0, 1681, 1551, 1765, 547, 225, 887, 999],\n",
    "        [2408, 959, 1737, 1395, 1021, 1681, 0, 2493, 678, 1724, 1891, 1114, 701],\n",
    "        [213, 2596, 851, 1123, 1769, 1551, 2493, 0, 2699, 1038, 1605, 2300, 2099],\n",
    "        [2571, 403, 1858, 1584, 949, 1765, 678, 2699, 0, 1744, 1645, 653, 600],\n",
    "        [875, 1589, 262, 466, 796, 547, 1724, 1038, 1744, 0, 679, 1272, 1162],\n",
    "        [1420, 1374, 940, 1056, 879, 225, 1891, 1605, 1645, 679, 0, 1017, 1200],\n",
    "        [2145, 357, 1453, 1280, 586, 887, 1114, 2300, 653, 1272, 1017, 0, 504],\n",
    "        [1972, 579, 1260, 987, 371, 999, 701, 2099, 600, 1162, 1200, 504, 0],\n",
    "    ]  # yapf: disable\n",
    "    data['num_vehicles'] = 1\n",
    "    data['depot'] = 0\n",
    "    return data"
   ],
   "metadata": {
    "collapsed": false
   }
  },
  {
   "cell_type": "code",
   "execution_count": 14,
   "outputs": [],
   "source": [
    "\"\"\"Entry point of the program.\"\"\"\n",
    "# Instantiate the data problem.\n",
    "data = create_data_model()\n",
    "\n",
    "# Create the routing index manager.\n",
    "manager = pywrapcp.RoutingIndexManager(len(data['distance_matrix']),\n",
    "                                           data['num_vehicles'], data['depot'])\n",
    "\n",
    "# Create Routing Model.\n",
    "routing = pywrapcp.RoutingModel(manager)"
   ],
   "metadata": {
    "collapsed": false
   }
  },
  {
   "cell_type": "code",
   "execution_count": 15,
   "outputs": [],
   "source": [
    "def distance_callback(from_index, to_index):\n",
    "    \"\"\"Returns the distance between the two nodes.\"\"\"\n",
    "    # Convert from routing variable Index to distance matrix NodeIndex.\n",
    "    from_node = manager.IndexToNode(from_index)\n",
    "    to_node = manager.IndexToNode(to_index)\n",
    "    return data['distance_matrix'][from_node][to_node]\n",
    "\n",
    "transit_callback_index = routing.RegisterTransitCallback(distance_callback)"
   ],
   "metadata": {
    "collapsed": false
   }
  },
  {
   "cell_type": "code",
   "execution_count": 23,
   "outputs": [
    {
     "data": {
      "text/plain": "int"
     },
     "execution_count": 23,
     "metadata": {},
     "output_type": "execute_result"
    }
   ],
   "source": [
    "type(manager.IndexToNode(1))"
   ],
   "metadata": {
    "collapsed": false
   }
  },
  {
   "cell_type": "code",
   "execution_count": 24,
   "outputs": [
    {
     "data": {
      "text/plain": "int"
     },
     "execution_count": 24,
     "metadata": {},
     "output_type": "execute_result"
    }
   ],
   "source": [
    "type(distance_callback(0, 4))"
   ],
   "metadata": {
    "collapsed": false
   }
  },
  {
   "cell_type": "code",
   "execution_count": 4,
   "outputs": [],
   "source": [
    "test= 'ceci est la branche master '"
   ],
   "metadata": {
    "collapsed": false
   }
  },
  {
   "cell_type": "code",
   "execution_count": 3,
   "outputs": [
    {
     "ename": "ValueError",
     "evalue": "could not convert string to float: '151603712,\"The'",
     "output_type": "error",
     "traceback": [
      "\u001B[0;31m---------------------------------------------------------------------------\u001B[0m",
      "\u001B[0;31mValueError\u001B[0m                                Traceback (most recent call last)",
      "Input \u001B[0;32mIn [3]\u001B[0m, in \u001B[0;36m<cell line: 1>\u001B[0;34m()\u001B[0m\n\u001B[0;32m----> 1\u001B[0m data\u001B[38;5;241m=\u001B[39m\u001B[43mnp\u001B[49m\u001B[38;5;241;43m.\u001B[39;49m\u001B[43mloadtxt\u001B[49m\u001B[43m(\u001B[49m\u001B[38;5;124;43m'\u001B[39;49m\u001B[38;5;124;43m/Users/nelsonortiz/Downloads/steam-200k.csv\u001B[39;49m\u001B[38;5;124;43m'\u001B[39;49m\u001B[43m)\u001B[49m\n",
      "File \u001B[0;32m~/venv/lib/python3.9/site-packages/numpy/lib/npyio.py:1148\u001B[0m, in \u001B[0;36mloadtxt\u001B[0;34m(fname, dtype, comments, delimiter, converters, skiprows, usecols, unpack, ndmin, encoding, max_rows, like)\u001B[0m\n\u001B[1;32m   1143\u001B[0m \u001B[38;5;66;03m# read data in chunks and fill it into an array via resize\u001B[39;00m\n\u001B[1;32m   1144\u001B[0m \u001B[38;5;66;03m# over-allocating and shrinking the array later may be faster but is\u001B[39;00m\n\u001B[1;32m   1145\u001B[0m \u001B[38;5;66;03m# probably not relevant compared to the cost of actually reading and\u001B[39;00m\n\u001B[1;32m   1146\u001B[0m \u001B[38;5;66;03m# converting the data\u001B[39;00m\n\u001B[1;32m   1147\u001B[0m X \u001B[38;5;241m=\u001B[39m \u001B[38;5;28;01mNone\u001B[39;00m\n\u001B[0;32m-> 1148\u001B[0m \u001B[38;5;28;01mfor\u001B[39;00m x \u001B[38;5;129;01min\u001B[39;00m read_data(_loadtxt_chunksize):\n\u001B[1;32m   1149\u001B[0m     \u001B[38;5;28;01mif\u001B[39;00m X \u001B[38;5;129;01mis\u001B[39;00m \u001B[38;5;28;01mNone\u001B[39;00m:\n\u001B[1;32m   1150\u001B[0m         X \u001B[38;5;241m=\u001B[39m np\u001B[38;5;241m.\u001B[39marray(x, dtype)\n",
      "File \u001B[0;32m~/venv/lib/python3.9/site-packages/numpy/lib/npyio.py:999\u001B[0m, in \u001B[0;36mloadtxt.<locals>.read_data\u001B[0;34m(chunk_size)\u001B[0m\n\u001B[1;32m    995\u001B[0m     \u001B[38;5;28;01mraise\u001B[39;00m \u001B[38;5;167;01mValueError\u001B[39;00m(\u001B[38;5;124m\"\u001B[39m\u001B[38;5;124mWrong number of columns at line \u001B[39m\u001B[38;5;132;01m%d\u001B[39;00m\u001B[38;5;124m\"\u001B[39m\n\u001B[1;32m    996\u001B[0m                      \u001B[38;5;241m%\u001B[39m line_num)\n\u001B[1;32m    998\u001B[0m \u001B[38;5;66;03m# Convert each value according to its column and store\u001B[39;00m\n\u001B[0;32m--> 999\u001B[0m items \u001B[38;5;241m=\u001B[39m [conv(val) \u001B[38;5;28;01mfor\u001B[39;00m (conv, val) \u001B[38;5;129;01min\u001B[39;00m \u001B[38;5;28mzip\u001B[39m(converters, vals)]\n\u001B[1;32m   1001\u001B[0m \u001B[38;5;66;03m# Then pack it according to the dtype's nesting\u001B[39;00m\n\u001B[1;32m   1002\u001B[0m items \u001B[38;5;241m=\u001B[39m pack_items(items, packing)\n",
      "File \u001B[0;32m~/venv/lib/python3.9/site-packages/numpy/lib/npyio.py:999\u001B[0m, in \u001B[0;36m<listcomp>\u001B[0;34m(.0)\u001B[0m\n\u001B[1;32m    995\u001B[0m     \u001B[38;5;28;01mraise\u001B[39;00m \u001B[38;5;167;01mValueError\u001B[39;00m(\u001B[38;5;124m\"\u001B[39m\u001B[38;5;124mWrong number of columns at line \u001B[39m\u001B[38;5;132;01m%d\u001B[39;00m\u001B[38;5;124m\"\u001B[39m\n\u001B[1;32m    996\u001B[0m                      \u001B[38;5;241m%\u001B[39m line_num)\n\u001B[1;32m    998\u001B[0m \u001B[38;5;66;03m# Convert each value according to its column and store\u001B[39;00m\n\u001B[0;32m--> 999\u001B[0m items \u001B[38;5;241m=\u001B[39m [\u001B[43mconv\u001B[49m\u001B[43m(\u001B[49m\u001B[43mval\u001B[49m\u001B[43m)\u001B[49m \u001B[38;5;28;01mfor\u001B[39;00m (conv, val) \u001B[38;5;129;01min\u001B[39;00m \u001B[38;5;28mzip\u001B[39m(converters, vals)]\n\u001B[1;32m   1001\u001B[0m \u001B[38;5;66;03m# Then pack it according to the dtype's nesting\u001B[39;00m\n\u001B[1;32m   1002\u001B[0m items \u001B[38;5;241m=\u001B[39m pack_items(items, packing)\n",
      "File \u001B[0;32m~/venv/lib/python3.9/site-packages/numpy/lib/npyio.py:736\u001B[0m, in \u001B[0;36m_getconv.<locals>.floatconv\u001B[0;34m(x)\u001B[0m\n\u001B[1;32m    734\u001B[0m \u001B[38;5;28;01mif\u001B[39;00m \u001B[38;5;124m'\u001B[39m\u001B[38;5;124m0x\u001B[39m\u001B[38;5;124m'\u001B[39m \u001B[38;5;129;01min\u001B[39;00m x:\n\u001B[1;32m    735\u001B[0m     \u001B[38;5;28;01mreturn\u001B[39;00m \u001B[38;5;28mfloat\u001B[39m\u001B[38;5;241m.\u001B[39mfromhex(x)\n\u001B[0;32m--> 736\u001B[0m \u001B[38;5;28;01mreturn\u001B[39;00m \u001B[38;5;28;43mfloat\u001B[39;49m\u001B[43m(\u001B[49m\u001B[43mx\u001B[49m\u001B[43m)\u001B[49m\n",
      "\u001B[0;31mValueError\u001B[0m: could not convert string to float: '151603712,\"The'"
     ]
    }
   ],
   "source": [],
   "metadata": {
    "collapsed": false
   }
  },
  {
   "cell_type": "code",
   "execution_count": 21,
   "outputs": [
    {
     "data": {
      "text/plain": "                0                           1         2      3  4\n0       151603712  The Elder Scrolls V Skyrim  purchase    1.0  0\n1       151603712  The Elder Scrolls V Skyrim      play  273.0  0\n2       151603712                   Fallout 4  purchase    1.0  0\n3       151603712                   Fallout 4      play   87.0  0\n4       151603712                       Spore  purchase    1.0  0\n...           ...                         ...       ...    ... ..\n199995  128470551                 Titan Souls      play    1.5  0\n199996  128470551  Grand Theft Auto Vice City  purchase    1.0  0\n199997  128470551  Grand Theft Auto Vice City      play    1.5  0\n199998  128470551                        RUSH  purchase    1.0  0\n199999  128470551                        RUSH      play    1.4  0\n\n[200000 rows x 5 columns]",
      "text/html": "<div>\n<style scoped>\n    .dataframe tbody tr th:only-of-type {\n        vertical-align: middle;\n    }\n\n    .dataframe tbody tr th {\n        vertical-align: top;\n    }\n\n    .dataframe thead th {\n        text-align: right;\n    }\n</style>\n<table border=\"1\" class=\"dataframe\">\n  <thead>\n    <tr style=\"text-align: right;\">\n      <th></th>\n      <th>0</th>\n      <th>1</th>\n      <th>2</th>\n      <th>3</th>\n      <th>4</th>\n    </tr>\n  </thead>\n  <tbody>\n    <tr>\n      <th>0</th>\n      <td>151603712</td>\n      <td>The Elder Scrolls V Skyrim</td>\n      <td>purchase</td>\n      <td>1.0</td>\n      <td>0</td>\n    </tr>\n    <tr>\n      <th>1</th>\n      <td>151603712</td>\n      <td>The Elder Scrolls V Skyrim</td>\n      <td>play</td>\n      <td>273.0</td>\n      <td>0</td>\n    </tr>\n    <tr>\n      <th>2</th>\n      <td>151603712</td>\n      <td>Fallout 4</td>\n      <td>purchase</td>\n      <td>1.0</td>\n      <td>0</td>\n    </tr>\n    <tr>\n      <th>3</th>\n      <td>151603712</td>\n      <td>Fallout 4</td>\n      <td>play</td>\n      <td>87.0</td>\n      <td>0</td>\n    </tr>\n    <tr>\n      <th>4</th>\n      <td>151603712</td>\n      <td>Spore</td>\n      <td>purchase</td>\n      <td>1.0</td>\n      <td>0</td>\n    </tr>\n    <tr>\n      <th>...</th>\n      <td>...</td>\n      <td>...</td>\n      <td>...</td>\n      <td>...</td>\n      <td>...</td>\n    </tr>\n    <tr>\n      <th>199995</th>\n      <td>128470551</td>\n      <td>Titan Souls</td>\n      <td>play</td>\n      <td>1.5</td>\n      <td>0</td>\n    </tr>\n    <tr>\n      <th>199996</th>\n      <td>128470551</td>\n      <td>Grand Theft Auto Vice City</td>\n      <td>purchase</td>\n      <td>1.0</td>\n      <td>0</td>\n    </tr>\n    <tr>\n      <th>199997</th>\n      <td>128470551</td>\n      <td>Grand Theft Auto Vice City</td>\n      <td>play</td>\n      <td>1.5</td>\n      <td>0</td>\n    </tr>\n    <tr>\n      <th>199998</th>\n      <td>128470551</td>\n      <td>RUSH</td>\n      <td>purchase</td>\n      <td>1.0</td>\n      <td>0</td>\n    </tr>\n    <tr>\n      <th>199999</th>\n      <td>128470551</td>\n      <td>RUSH</td>\n      <td>play</td>\n      <td>1.4</td>\n      <td>0</td>\n    </tr>\n  </tbody>\n</table>\n<p>200000 rows × 5 columns</p>\n</div>"
     },
     "execution_count": 21,
     "metadata": {},
     "output_type": "execute_result"
    }
   ],
   "source": [
    "df = read_csv('/Users/nelsonortiz/Downloads/steam-200k.csv',header=None)\n",
    "data = df.values\n",
    "df"
   ],
   "metadata": {
    "collapsed": false
   }
  },
  {
   "cell_type": "code",
   "execution_count": 24,
   "outputs": [
    {
     "data": {
      "text/plain": "               id                        game Behaviour Label  Value  0\n0       151603712  The Elder Scrolls V Skyrim        purchase    1.0  0\n1       151603712  The Elder Scrolls V Skyrim            play  273.0  0\n2       151603712                   Fallout 4        purchase    1.0  0\n3       151603712                   Fallout 4            play   87.0  0\n4       151603712                       Spore        purchase    1.0  0\n...           ...                         ...             ...    ... ..\n199995  128470551                 Titan Souls            play    1.5  0\n199996  128470551  Grand Theft Auto Vice City        purchase    1.0  0\n199997  128470551  Grand Theft Auto Vice City            play    1.5  0\n199998  128470551                        RUSH        purchase    1.0  0\n199999  128470551                        RUSH            play    1.4  0\n\n[200000 rows x 5 columns]",
      "text/html": "<div>\n<style scoped>\n    .dataframe tbody tr th:only-of-type {\n        vertical-align: middle;\n    }\n\n    .dataframe tbody tr th {\n        vertical-align: top;\n    }\n\n    .dataframe thead th {\n        text-align: right;\n    }\n</style>\n<table border=\"1\" class=\"dataframe\">\n  <thead>\n    <tr style=\"text-align: right;\">\n      <th></th>\n      <th>id</th>\n      <th>game</th>\n      <th>Behaviour Label</th>\n      <th>Value</th>\n      <th>0</th>\n    </tr>\n  </thead>\n  <tbody>\n    <tr>\n      <th>0</th>\n      <td>151603712</td>\n      <td>The Elder Scrolls V Skyrim</td>\n      <td>purchase</td>\n      <td>1.0</td>\n      <td>0</td>\n    </tr>\n    <tr>\n      <th>1</th>\n      <td>151603712</td>\n      <td>The Elder Scrolls V Skyrim</td>\n      <td>play</td>\n      <td>273.0</td>\n      <td>0</td>\n    </tr>\n    <tr>\n      <th>2</th>\n      <td>151603712</td>\n      <td>Fallout 4</td>\n      <td>purchase</td>\n      <td>1.0</td>\n      <td>0</td>\n    </tr>\n    <tr>\n      <th>3</th>\n      <td>151603712</td>\n      <td>Fallout 4</td>\n      <td>play</td>\n      <td>87.0</td>\n      <td>0</td>\n    </tr>\n    <tr>\n      <th>4</th>\n      <td>151603712</td>\n      <td>Spore</td>\n      <td>purchase</td>\n      <td>1.0</td>\n      <td>0</td>\n    </tr>\n    <tr>\n      <th>...</th>\n      <td>...</td>\n      <td>...</td>\n      <td>...</td>\n      <td>...</td>\n      <td>...</td>\n    </tr>\n    <tr>\n      <th>199995</th>\n      <td>128470551</td>\n      <td>Titan Souls</td>\n      <td>play</td>\n      <td>1.5</td>\n      <td>0</td>\n    </tr>\n    <tr>\n      <th>199996</th>\n      <td>128470551</td>\n      <td>Grand Theft Auto Vice City</td>\n      <td>purchase</td>\n      <td>1.0</td>\n      <td>0</td>\n    </tr>\n    <tr>\n      <th>199997</th>\n      <td>128470551</td>\n      <td>Grand Theft Auto Vice City</td>\n      <td>play</td>\n      <td>1.5</td>\n      <td>0</td>\n    </tr>\n    <tr>\n      <th>199998</th>\n      <td>128470551</td>\n      <td>RUSH</td>\n      <td>purchase</td>\n      <td>1.0</td>\n      <td>0</td>\n    </tr>\n    <tr>\n      <th>199999</th>\n      <td>128470551</td>\n      <td>RUSH</td>\n      <td>play</td>\n      <td>1.4</td>\n      <td>0</td>\n    </tr>\n  </tbody>\n</table>\n<p>200000 rows × 5 columns</p>\n</div>"
     },
     "execution_count": 24,
     "metadata": {},
     "output_type": "execute_result"
    }
   ],
   "source": [
    "df=df.rename(columns={0:\"id\",1:\"game\",2:\"Behaviour Label\",3:\"Value\",4:\"0\"})\n",
    "df"
   ],
   "metadata": {
    "collapsed": false
   }
  },
  {
   "cell_type": "code",
   "execution_count": 26,
   "outputs": [
    {
     "data": {
      "text/plain": "               id    game Behaviour Label   Value  0\n42      151603712  Dota 2        purchase     1.0  0\n43      151603712  Dota 2            play     0.5  0\n66      187131847  Dota 2        purchase     1.0  0\n67      187131847  Dota 2            play     2.3  0\n855     176410694  Dota 2        purchase     1.0  0\n...           ...     ...             ...     ... ..\n199897   99096740  Dota 2            play  1704.0  0\n199948  176449171  Dota 2        purchase     1.0  0\n199949  176449171  Dota 2            play  1310.0  0\n199960  221315846  Dota 2        purchase     1.0  0\n199961  221315846  Dota 2            play     9.0  0\n\n[9682 rows x 5 columns]",
      "text/html": "<div>\n<style scoped>\n    .dataframe tbody tr th:only-of-type {\n        vertical-align: middle;\n    }\n\n    .dataframe tbody tr th {\n        vertical-align: top;\n    }\n\n    .dataframe thead th {\n        text-align: right;\n    }\n</style>\n<table border=\"1\" class=\"dataframe\">\n  <thead>\n    <tr style=\"text-align: right;\">\n      <th></th>\n      <th>id</th>\n      <th>game</th>\n      <th>Behaviour Label</th>\n      <th>Value</th>\n      <th>0</th>\n    </tr>\n  </thead>\n  <tbody>\n    <tr>\n      <th>42</th>\n      <td>151603712</td>\n      <td>Dota 2</td>\n      <td>purchase</td>\n      <td>1.0</td>\n      <td>0</td>\n    </tr>\n    <tr>\n      <th>43</th>\n      <td>151603712</td>\n      <td>Dota 2</td>\n      <td>play</td>\n      <td>0.5</td>\n      <td>0</td>\n    </tr>\n    <tr>\n      <th>66</th>\n      <td>187131847</td>\n      <td>Dota 2</td>\n      <td>purchase</td>\n      <td>1.0</td>\n      <td>0</td>\n    </tr>\n    <tr>\n      <th>67</th>\n      <td>187131847</td>\n      <td>Dota 2</td>\n      <td>play</td>\n      <td>2.3</td>\n      <td>0</td>\n    </tr>\n    <tr>\n      <th>855</th>\n      <td>176410694</td>\n      <td>Dota 2</td>\n      <td>purchase</td>\n      <td>1.0</td>\n      <td>0</td>\n    </tr>\n    <tr>\n      <th>...</th>\n      <td>...</td>\n      <td>...</td>\n      <td>...</td>\n      <td>...</td>\n      <td>...</td>\n    </tr>\n    <tr>\n      <th>199897</th>\n      <td>99096740</td>\n      <td>Dota 2</td>\n      <td>play</td>\n      <td>1704.0</td>\n      <td>0</td>\n    </tr>\n    <tr>\n      <th>199948</th>\n      <td>176449171</td>\n      <td>Dota 2</td>\n      <td>purchase</td>\n      <td>1.0</td>\n      <td>0</td>\n    </tr>\n    <tr>\n      <th>199949</th>\n      <td>176449171</td>\n      <td>Dota 2</td>\n      <td>play</td>\n      <td>1310.0</td>\n      <td>0</td>\n    </tr>\n    <tr>\n      <th>199960</th>\n      <td>221315846</td>\n      <td>Dota 2</td>\n      <td>purchase</td>\n      <td>1.0</td>\n      <td>0</td>\n    </tr>\n    <tr>\n      <th>199961</th>\n      <td>221315846</td>\n      <td>Dota 2</td>\n      <td>play</td>\n      <td>9.0</td>\n      <td>0</td>\n    </tr>\n  </tbody>\n</table>\n<p>9682 rows × 5 columns</p>\n</div>"
     },
     "execution_count": 26,
     "metadata": {},
     "output_type": "execute_result"
    }
   ],
   "source": [
    "df[df[\"game\"]==\"Dota 2\"]"
   ],
   "metadata": {
    "collapsed": false
   }
  },
  {
   "cell_type": "code",
   "execution_count": 64,
   "outputs": [
    {
     "data": {
      "text/plain": "array([[<AxesSubplot:title={'center':'Value'}>]], dtype=object)"
     },
     "execution_count": 64,
     "metadata": {},
     "output_type": "execute_result"
    },
    {
     "data": {
      "text/plain": "<Figure size 432x288 with 1 Axes>",
      "image/png": "[encoded data removed]"
     },
     "metadata": {
      "needs_background": "light"
     },
     "output_type": "display_data"
    }
   ],
   "source": [
    "df_clean=df[df['Behaviour Label']=='play']\n",
    "df_clean=df_clean[df_clean['Value']>1][['game','Value']]\n",
    "df_clean.hist(bins=6)\n"
   ],
   "metadata": {
    "collapsed": false
   }
  },
  {
   "cell_type": "code",
   "execution_count": null,
   "outputs": [],
   "source": [
    "q"
   ],
   "metadata": {
    "collapsed": false
   }
  }
 ],
 "metadata": {
  "kernelspec": {
   "display_name": "Python 3",
   "language": "python",
   "name": "python3"
  },
  "language_info": {
   "codemirror_mode": {
    "name": "ipython",
    "version": 2
   },
   "file_extension": ".py",
   "mimetype": "text/x-python",
   "name": "python",
   "nbconvert_exporter": "python",
   "pygments_lexer": "ipython2",
   "version": "2.7.6"
  }
 },
 "nbformat": 4,
 "nbformat_minor": 0
}
